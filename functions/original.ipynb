{
 "cells": [
  {
   "cell_type": "markdown",
   "metadata": {},
   "source": [
    "# **Multiple Linear Regression**"
   ]
  },
  {
   "cell_type": "markdown",
   "metadata": {},
   "source": [
    "## 3. Ajuste um Modelo de Regressão Linear Múltipla\n",
    "### Ajuste um modelo de regressão linear múltipla considerando todas as variáveis do seu conjunto de dados. Apresente os valores numéricos de da matriz $X^TX$ e sua inversa. Assim como da matriz $X^TY$ e estimativas do vetor $\\beta's$ dos e intérprete. Explique se existe diferença entre o EMV e o estimador de mínimos quadrados de $\\beta$? justifique"
   ]
  },
  {
   "cell_type": "markdown",
   "metadata": {},
   "source": [
    "### Como o estimador mínimos quadrados de $\\beta$ é $\\hat \\beta  = (X^TX)^{-1}X^TY$, segue que $\\hat Y = X \\hat \\beta = X(X^TX)^{-1}X^TY$"
   ]
  },
  {
   "cell_type": "code",
   "execution_count": 1946,
   "metadata": {},
   "outputs": [],
   "source": [
    "class Multiple_Linear_Regression:\n",
    "    \n",
    "    def __init__(self, description = False):\n",
    "        \n",
    "        self._description = description\n",
    "        self._fit = False \n",
    "    \n",
    "    def fit(self, X, Y, n = None):\n",
    "        \n",
    "        self._X_init = X\n",
    "        self._Y = Y\n",
    "        \n",
    "        if n != None and type(n) == int:\n",
    "            self._X_init.iloc[:, :n]\n",
    "        \n",
    "        return self._mlr()\n",
    "    \n",
    "    def _mlr(self):\n",
    "        \n",
    "        self._X = np.append(np.ones((self._X_init.shape[0], 1)), self._X_init, axis = 1)\n",
    "\n",
    "        self._column_XX = self._X.T @ self._X\n",
    "        self._inv_column_XX = linalg.inv(self._column_XX)\n",
    "\n",
    "        self._column_XY = self._X.T @ self._Y\n",
    "\n",
    "        self._beta_hat = self._inv_column_XX @ self._column_XY\n",
    "        \n",
    "        self._Y_hat = self._X @ self._beta_hat\n",
    "        \n",
    "        self._res = self._Y - self._Y_hat\n",
    "        \n",
    "        self._fit = True\n",
    "        \n",
    "        return self._beta_hat\n",
    "    \n",
    "    def predict(self, X_init):\n",
    "        \n",
    "        try:\n",
    "            \n",
    "            X = np.append(np.ones((X_init.shape[0], 1)), X_init, axis = 1)\n",
    "            \n",
    "            return X @ self._beta_hat\n",
    "            \n",
    "        except:\n",
    "            \n",
    "            print('A matriz de valores é imcompatível.')\n",
    "            \n",
    "        return None\n",
    "    \n",
    "    def estimations(self):\n",
    "        \n",
    "        if self._fit:\n",
    "        \n",
    "            n, p = self._X.shape\n",
    "        \n",
    "            self._SQtotal = self._Y.T @ self._Y - n*self._Y.mean()**2\n",
    "            self._SQreg = self._beta_hat @ self._column_XY - n*self._Y.mean()**2\n",
    "            self._SQres = self._SQtotal - self._SQreg\n",
    "            \n",
    "            self._QMres = self._SQres/(n - p)\n",
    "            self._QNres = self._SQres/n\n",
    "            \n",
    "            self._QMreg = self._SQreg/(p - 1)\n",
    "            \n",
    "            self._F0 = self._QMreg/self._QMres\n",
    "            \n",
    "            self._R2 = self._SQreg/self._SQtotal\n",
    "            self._R2_aj = 1 - self._QMres/(self._SQtotal/(n - 1))\n",
    "            \n",
    "            return {'SQtotal': self._SQtotal, 'SQres': self._SQres, 'SQreg': self._SQreg ,'QMres': self._QMres, 'QNres': self._QNres, 'QMreg': self._QMreg, 'R2': self._R2,'R2_aj': self._R2_aj}\n",
    "        \n",
    "        else:\n",
    "            \n",
    "            print('O modele ainda não foi treinado.')\n",
    "        \n",
    "        return None\n",
    "    \n",
    "    def ANOVA(self, alpha = 0.05):\n",
    "        \n",
    "        n, p = self._X.shape\n",
    "        \n",
    "        est = self.estimations()\n",
    "        \n",
    "        self._F = stats.f.ppf(1 - alpha, p - 1, n - p)\n",
    "        \n",
    "        s = f\"Fonte de Variação(FV) \\t g.l              \\t SQ              \\t QM              \\t F \\n\\n\"\n",
    "        \n",
    "        \n",
    "        s += f\"Regressão           \\t {p-1}                \\t {est['SQreg']:.2f}          \\t {est['QMreg']:.2f}          \\t {est['QMreg']/est['QMres']:.2f}\\n\"\n",
    "        s += f\"Resíduo             \\t {n - p}              \\t {est['SQres']:.2f}              \\t {est['QMres']:.2f} \\n\\n\"\n",
    "        \n",
    "        s += f\"Total               \\t {n - 1}              \\t {est['SQtotal']:.2f}\\n\\n\"\n",
    "        \n",
    "        print(s)\n",
    "        \n",
    "        \n",
    "        print(self._F0, self._F)\n",
    "        \n",
    "        if self._F0 > self._F:\n",
    "            \n",
    "            print(f\"Como F0 = {self._F0:.2f} > F = {self._F:.2f}, rejeitamos H0: Pelo menos uma das covariáveis é significativa.\")\n",
    "        \n",
    "        else:\n",
    "            \n",
    "            print(f\"Como F = {self._F:.2f} > F0 = {self._F0:.2f}, aceitamos H0: Nenhuma das covariáveis é significativa.\")\n",
    "    \n",
    "    def coeficient_test(self, alpha = 0.05):\n",
    "        \n",
    "        n, p = self._X.shape\n",
    "        \n",
    "        ta = stats.t.ppf(alpha/2, n - p)\n",
    "        tb = stats.t.ppf(1 - alpha/2, n - p)\n",
    "        \n",
    "        for i, beta_i in enumerate(self._beta_hat):\n",
    "            \n",
    "            t = beta_i/(np.sqrt(self._QMres*self._inv_column_XX[i,i]))\n",
    "            \n",
    "            if t < ta or t > tb:\n",
    "                \n",
    "                print(f\"Como t = {t:.2f} não pertence ao intervalo [{ta:.2f},{tb:.2f}], rejeitamos H0: A covariável X_{i} é significativa, dadas as demais no modelo.\")\n",
    "            \n",
    "            else:\n",
    "                \n",
    "                print(f\"Como t = {t:.2f} pertence ao intervalo [{ta:.2f},{tb:.2f}], não rejeitamos H0: A covariável X_{i} não é significativa, dadas as demais no modelo.\")\n",
    "    \n",
    "    def ICs(self, alpha = 0.05):\n",
    "        \n",
    "        n, p = self._X.shape\n",
    "        \n",
    "        ta = stats.t.ppf(1 - alpha/2, n - p)\n",
    "        tb = stats.t.ppf(alpha/2, n - p)\n",
    "        \n",
    "        ICs = {}\n",
    "        \n",
    "        for i, beta_i in enumerate(self._beta_hat):\n",
    "            \n",
    "            dp_b1 = np.sqrt(self._QMres*self._inv_column_XX[i,i])\n",
    "            \n",
    "            ICs[f'Beta {i}'] = [beta_i - ta*dp_b1, beta_i - tb*dp_b1]\n",
    "    \n",
    "        return ICs\n",
    "    \n",
    "    def IC_mean(self, X, alpha = 0.05):\n",
    "        \n",
    "        X0 = np.append(np.array([1]), X)\n",
    "        Y0 = X0 @ self._beta_hat\n",
    "        \n",
    "        n, p = self._X.shape\n",
    "        \n",
    "        ta = stats.t.ppf(1 - alpha/2, n - p)\n",
    "        tb = stats.t.ppf(alpha/2, n - p)\n",
    "        \n",
    "        dp_b = np.sqrt(self._QMres* (X0 @ self._inv_column_XX @ X0.T))\n",
    "        \n",
    "        IC = [Y0 - ta*dp_b, Y0 - tb*dp_b]\n",
    "        \n",
    "        return IC\n",
    "    \n",
    "    @staticmethod\n",
    "    def sub_set_test(X, Y, sub, alpha = 0.05):\n",
    "        \n",
    "        r = len(sub)\n",
    "        \n",
    "        n, k = X.shape\n",
    "        p = k + 1\n",
    "        \n",
    "        F = stats.f.ppf(1 - alpha, r, n - p)\n",
    "        \n",
    "        mlr1 = Multiple_Linear_Regression()\n",
    "        mlr = Multiple_Linear_Regression()\n",
    "        \n",
    "        X_1 = X[sub]\n",
    "        \n",
    "        beta_1 = mlr1.fit(X_1, Y)\n",
    "        est_1 = mlr1.estimations()\n",
    "        \n",
    "        beta = mlr.fit(X, Y)\n",
    "        est = mlr.estimations()\n",
    "        \n",
    "        SQreg = est['SQreg'] - est_1['SQreg'] \n",
    "        \n",
    "        F0 = SQreg/r/(est['SQres']/(n - p))\n",
    "        \n",
    "        if F0 > F:\n",
    "            \n",
    "            print(f\"Como F0 = {F0:.2f} > F = {F:.2f}, rejeitamos H0: Ao menos uma das covariáveis no sub conjunto é significativa.\")\n",
    "        \n",
    "        else:\n",
    "            \n",
    "            print(f\"Como F = {F:.2f} > F0 = {F0:.2f}, aceitamos H0: Nenhuma das covariáveis no sub conjunto é significativa.\")"
   ]
  },
  {
   "cell_type": "markdown",
   "metadata": {},
   "source": [
    "## **Dados do Trabalho**"
   ]
  },
  {
   "cell_type": "code",
   "execution_count": 1947,
   "metadata": {},
   "outputs": [],
   "source": [
    "df = pd.read_csv('B13.csv')"
   ]
  },
  {
   "cell_type": "code",
   "execution_count": 1948,
   "metadata": {},
   "outputs": [
    {
     "data": {
      "text/html": [
       "<div>\n",
       "<style scoped>\n",
       "    .dataframe tbody tr th:only-of-type {\n",
       "        vertical-align: middle;\n",
       "    }\n",
       "\n",
       "    .dataframe tbody tr th {\n",
       "        vertical-align: top;\n",
       "    }\n",
       "\n",
       "    .dataframe thead th {\n",
       "        text-align: right;\n",
       "    }\n",
       "</style>\n",
       "<table border=\"1\" class=\"dataframe\">\n",
       "  <thead>\n",
       "    <tr style=\"text-align: right;\">\n",
       "      <th></th>\n",
       "      <th>y</th>\n",
       "      <th>x1</th>\n",
       "      <th>x2</th>\n",
       "      <th>x3</th>\n",
       "      <th>x4</th>\n",
       "      <th>x5</th>\n",
       "      <th>x6</th>\n",
       "    </tr>\n",
       "  </thead>\n",
       "  <tbody>\n",
       "    <tr>\n",
       "      <th>0</th>\n",
       "      <td>4540</td>\n",
       "      <td>2140</td>\n",
       "      <td>20640</td>\n",
       "      <td>30250</td>\n",
       "      <td>205</td>\n",
       "      <td>1732</td>\n",
       "      <td>99</td>\n",
       "    </tr>\n",
       "    <tr>\n",
       "      <th>1</th>\n",
       "      <td>4315</td>\n",
       "      <td>2016</td>\n",
       "      <td>20280</td>\n",
       "      <td>30010</td>\n",
       "      <td>195</td>\n",
       "      <td>1697</td>\n",
       "      <td>100</td>\n",
       "    </tr>\n",
       "    <tr>\n",
       "      <th>2</th>\n",
       "      <td>4095</td>\n",
       "      <td>1905</td>\n",
       "      <td>19860</td>\n",
       "      <td>29780</td>\n",
       "      <td>184</td>\n",
       "      <td>1662</td>\n",
       "      <td>97</td>\n",
       "    </tr>\n",
       "    <tr>\n",
       "      <th>3</th>\n",
       "      <td>3650</td>\n",
       "      <td>1675</td>\n",
       "      <td>18980</td>\n",
       "      <td>29330</td>\n",
       "      <td>164</td>\n",
       "      <td>1598</td>\n",
       "      <td>97</td>\n",
       "    </tr>\n",
       "    <tr>\n",
       "      <th>4</th>\n",
       "      <td>3200</td>\n",
       "      <td>1474</td>\n",
       "      <td>18100</td>\n",
       "      <td>28960</td>\n",
       "      <td>144</td>\n",
       "      <td>1541</td>\n",
       "      <td>97</td>\n",
       "    </tr>\n",
       "  </tbody>\n",
       "</table>\n",
       "</div>"
      ],
      "text/plain": [
       "      y    x1     x2     x3   x4    x5   x6\n",
       "0  4540  2140  20640  30250  205  1732   99\n",
       "1  4315  2016  20280  30010  195  1697  100\n",
       "2  4095  1905  19860  29780  184  1662   97\n",
       "3  3650  1675  18980  29330  164  1598   97\n",
       "4  3200  1474  18100  28960  144  1541   97"
      ]
     },
     "execution_count": 1948,
     "metadata": {},
     "output_type": "execute_result"
    }
   ],
   "source": [
    "df.head(5)"
   ]
  },
  {
   "cell_type": "code",
   "execution_count": 1949,
   "metadata": {},
   "outputs": [],
   "source": [
    "Y = df['y']\n",
    "X = df.iloc[:, 1:]"
   ]
  },
  {
   "cell_type": "markdown",
   "metadata": {},
   "source": [
    "## **Questão - 3** Aula 11"
   ]
  },
  {
   "cell_type": "code",
   "execution_count": 1950,
   "metadata": {},
   "outputs": [],
   "source": [
    "mlr = Multiple_Linear_Regression()"
   ]
  },
  {
   "cell_type": "code",
   "execution_count": 1951,
   "metadata": {},
   "outputs": [
    {
     "data": {
      "text/plain": [
       "array([-4.73801490e+03,  1.11850844e+00, -3.01839562e-02,  2.30618802e-01,\n",
       "        3.84954863e+00,  8.21863660e-01, -1.69464566e+01])"
      ]
     },
     "execution_count": 1951,
     "metadata": {},
     "output_type": "execute_result"
    }
   ],
   "source": [
    "mlr.fit(X, Y)"
   ]
  },
  {
   "cell_type": "markdown",
   "metadata": {},
   "source": [
    "## **Questão - 4** ($\\hat \\sigma = QMres$) Aula 12"
   ]
  },
  {
   "cell_type": "code",
   "execution_count": 1952,
   "metadata": {},
   "outputs": [
    {
     "data": {
      "text/plain": [
       "{'SQtotal': 9932036.0,\n",
       " 'SQres': 23189.608456730843,\n",
       " 'SQreg': 9908846.39154327,\n",
       " 'QMres': 702.7154077797225,\n",
       " 'QNres': 579.7402114182711,\n",
       " 'QMreg': 1651474.398590545,\n",
       " 'R2': 0.9976651707206124,\n",
       " 'R2_aj': 0.9972406563061784}"
      ]
     },
     "execution_count": 1952,
     "metadata": {},
     "output_type": "execute_result"
    }
   ],
   "source": [
    "mlr.estimations()"
   ]
  },
  {
   "cell_type": "code",
   "execution_count": 1953,
   "metadata": {},
   "outputs": [
    {
     "data": {
      "text/plain": [
       "(array([1., 3., 5., 5., 8., 6., 3., 4., 2., 3.]),\n",
       " array([-49.94850163, -39.99305931, -30.037617  , -20.08217468,\n",
       "        -10.12673236,  -0.17129005,   9.78415227,  19.73959459,\n",
       "         29.6950369 ,  39.65047922,  49.60592154]),\n",
       " <BarContainer object of 10 artists>)"
      ]
     },
     "execution_count": 1953,
     "metadata": {},
     "output_type": "execute_result"
    },
    {
     "data": {
      "image/png": "[encoded data removed]",
      "text/plain": [
       "<Figure size 432x288 with 1 Axes>"
      ]
     },
     "metadata": {
      "needs_background": "light"
     },
     "output_type": "display_data"
    }
   ],
   "source": [
    "plt.title('Histograma dos Refiduos')\n",
    "\n",
    "plt.hist(mlr._res)"
   ]
  },
  {
   "cell_type": "markdown",
   "metadata": {},
   "source": [
    "## **Questão - 5** Aula 13"
   ]
  },
  {
   "cell_type": "code",
   "execution_count": 1954,
   "metadata": {},
   "outputs": [
    {
     "name": "stdout",
     "output_type": "stream",
     "text": [
      "Fonte de Variação(FV) \t g.l              \t SQ              \t QM              \t F \n",
      "\n",
      "Regressão           \t 6                \t 9908846.39          \t 1651474.40          \t 2350.13\n",
      "Resíduo             \t 33              \t 23189.61              \t 702.72 \n",
      "\n",
      "Total               \t 39              \t 9932036.00\n",
      "\n",
      "\n",
      "2350.132614579338 2.389393897988133\n",
      "Como F0 = 2350.13 > F = 2.39, rejeitamos H0: Pelo menos uma das covariáveis é significativa.\n"
     ]
    }
   ],
   "source": [
    "mlr.ANOVA()"
   ]
  },
  {
   "cell_type": "markdown",
   "metadata": {},
   "source": [
    "## **Questão - 6** Aula 13"
   ]
  },
  {
   "cell_type": "code",
   "execution_count": 1955,
   "metadata": {},
   "outputs": [
    {
     "data": {
      "text/plain": [
       "{'SQtotal': 9932036.0,\n",
       " 'SQres': 23189.608456730843,\n",
       " 'SQreg': 9908846.39154327,\n",
       " 'QMres': 702.7154077797225,\n",
       " 'QNres': 579.7402114182711,\n",
       " 'QMreg': 1651474.398590545,\n",
       " 'R2': 0.9976651707206124,\n",
       " 'R2_aj': 0.9972406563061784}"
      ]
     },
     "execution_count": 1955,
     "metadata": {},
     "output_type": "execute_result"
    }
   ],
   "source": [
    "mlr.estimations()"
   ]
  },
  {
   "cell_type": "markdown",
   "metadata": {},
   "source": [
    "## **Questão - 7** Aula 13"
   ]
  },
  {
   "cell_type": "code",
   "execution_count": 1956,
   "metadata": {},
   "outputs": [
    {
     "name": "stdout",
     "output_type": "stream",
     "text": [
      "Como t = -1.94 pertence ao intervalo [-2.03,2.03], não rejeitamos H0: A covariável X_0 não é significativa, dadas as demais no modelo.\n",
      "Como t = 3.90 não pertence ao intervalo [-2.03,2.03], rejeitamos H0: A covariável X_1 é significativa, dadas as demais no modelo.\n",
      "Como t = -0.79 pertence ao intervalo [-2.03,2.03], não rejeitamos H0: A covariável X_2 não é significativa, dadas as demais no modelo.\n",
      "Como t = 1.95 pertence ao intervalo [-2.03,2.03], não rejeitamos H0: A covariável X_3 não é significativa, dadas as demais no modelo.\n",
      "Como t = 1.43 pertence ao intervalo [-2.03,2.03], não rejeitamos H0: A covariável X_4 não é significativa, dadas as demais no modelo.\n",
      "Como t = 2.34 não pertence ao intervalo [-2.03,2.03], rejeitamos H0: A covariável X_5 é significativa, dadas as demais no modelo.\n",
      "Como t = -6.47 não pertence ao intervalo [-2.03,2.03], rejeitamos H0: A covariável X_6 é significativa, dadas as demais no modelo.\n"
     ]
    }
   ],
   "source": [
    "mlr.coeficient_test()"
   ]
  },
  {
   "cell_type": "markdown",
   "metadata": {},
   "source": [
    "## **Questão - 8** Aula 14"
   ]
  },
  {
   "cell_type": "code",
   "execution_count": 1957,
   "metadata": {},
   "outputs": [
    {
     "name": "stdout",
     "output_type": "stream",
     "text": [
      "Como F0 = 28.14 > F = 2.89, rejeitamos H0: Ao menos uma das covariáveis no sub conjunto é significativa.\n"
     ]
    }
   ],
   "source": [
    "mlr.sub_set_test(X, Y, ['x2', 'x3', 'x4'])"
   ]
  },
  {
   "cell_type": "markdown",
   "metadata": {},
   "source": [
    "## **Questão - 9** Aula 15"
   ]
  },
  {
   "cell_type": "code",
   "execution_count": 1958,
   "metadata": {},
   "outputs": [
    {
     "data": {
      "text/plain": [
       "{'Beta 0': [-9711.87348291813, 235.84368178783552],\n",
       " 'Beta 1': [0.5356848490111925, 1.7013320392877749],\n",
       " 'Beta 2': [-0.10797076009462894, 0.04760284774088855],\n",
       " 'Beta 3': [-0.009513280193777368, 0.4707508850618518],\n",
       " 'Beta 4': [-1.615633577038576, 9.31473084217873],\n",
       " 'Beta 5': [0.10825876843932392, 1.5354685525201184],\n",
       " 'Beta 6': [-22.277061397199333, -11.615851832564175]}"
      ]
     },
     "execution_count": 1958,
     "metadata": {},
     "output_type": "execute_result"
    }
   ],
   "source": [
    "mlr.ICs()"
   ]
  },
  {
   "cell_type": "markdown",
   "metadata": {},
   "source": [
    "## **Questão - 10** Aula 15"
   ]
  },
  {
   "cell_type": "code",
   "execution_count": 1963,
   "metadata": {},
   "outputs": [
    {
     "data": {
      "text/plain": [
       "[4524.299819265233, 4563.18260635121]"
      ]
     },
     "execution_count": 1963,
     "metadata": {},
     "output_type": "execute_result"
    }
   ],
   "source": [
    "mlr.IC_mean(np.array([2140, 20640, 30250, 205, 1732, 99]))"
   ]
  },
  {
   "cell_type": "markdown",
   "metadata": {},
   "source": [
    "## **Dados Da Aula**"
   ]
  },
  {
   "cell_type": "code",
   "execution_count": 1964,
   "metadata": {},
   "outputs": [],
   "source": [
    "df_aula = pd.read_csv('dadosexemplotempodeentrega.csv', ';')"
   ]
  },
  {
   "cell_type": "code",
   "execution_count": 1965,
   "metadata": {},
   "outputs": [],
   "source": [
    "df_aula['tempodeentrega'] = df_aula['tempodeentrega'].str.replace(',', '.', regex=False)\n",
    "df_aula['tempodeentrega'] = df_aula['tempodeentrega'].astype('float')"
   ]
  },
  {
   "cell_type": "code",
   "execution_count": 1966,
   "metadata": {},
   "outputs": [
    {
     "data": {
      "text/html": [
       "<div>\n",
       "<style scoped>\n",
       "    .dataframe tbody tr th:only-of-type {\n",
       "        vertical-align: middle;\n",
       "    }\n",
       "\n",
       "    .dataframe tbody tr th {\n",
       "        vertical-align: top;\n",
       "    }\n",
       "\n",
       "    .dataframe thead th {\n",
       "        text-align: right;\n",
       "    }\n",
       "</style>\n",
       "<table border=\"1\" class=\"dataframe\">\n",
       "  <thead>\n",
       "    <tr style=\"text-align: right;\">\n",
       "      <th></th>\n",
       "      <th>Observacao</th>\n",
       "      <th>tempodeentrega</th>\n",
       "      <th>numerodeitens</th>\n",
       "      <th>distancia</th>\n",
       "    </tr>\n",
       "  </thead>\n",
       "  <tbody>\n",
       "    <tr>\n",
       "      <th>0</th>\n",
       "      <td>1</td>\n",
       "      <td>16.68</td>\n",
       "      <td>7</td>\n",
       "      <td>560</td>\n",
       "    </tr>\n",
       "    <tr>\n",
       "      <th>1</th>\n",
       "      <td>2</td>\n",
       "      <td>11.50</td>\n",
       "      <td>3</td>\n",
       "      <td>220</td>\n",
       "    </tr>\n",
       "    <tr>\n",
       "      <th>2</th>\n",
       "      <td>3</td>\n",
       "      <td>12.03</td>\n",
       "      <td>3</td>\n",
       "      <td>340</td>\n",
       "    </tr>\n",
       "    <tr>\n",
       "      <th>3</th>\n",
       "      <td>4</td>\n",
       "      <td>14.88</td>\n",
       "      <td>4</td>\n",
       "      <td>80</td>\n",
       "    </tr>\n",
       "    <tr>\n",
       "      <th>4</th>\n",
       "      <td>5</td>\n",
       "      <td>13.75</td>\n",
       "      <td>6</td>\n",
       "      <td>150</td>\n",
       "    </tr>\n",
       "  </tbody>\n",
       "</table>\n",
       "</div>"
      ],
      "text/plain": [
       "   Observacao  tempodeentrega  numerodeitens  distancia\n",
       "0           1           16.68              7        560\n",
       "1           2           11.50              3        220\n",
       "2           3           12.03              3        340\n",
       "3           4           14.88              4         80\n",
       "4           5           13.75              6        150"
      ]
     },
     "execution_count": 1966,
     "metadata": {},
     "output_type": "execute_result"
    }
   ],
   "source": [
    "df_aula.head()"
   ]
  },
  {
   "cell_type": "code",
   "execution_count": 1967,
   "metadata": {},
   "outputs": [],
   "source": [
    "Y = df_aula['tempodeentrega']\n",
    "X = df_aula.iloc[:, 2:]"
   ]
  },
  {
   "cell_type": "code",
   "execution_count": 1968,
   "metadata": {},
   "outputs": [],
   "source": [
    "mlr_aula = Multiple_Linear_Regression()"
   ]
  },
  {
   "cell_type": "code",
   "execution_count": 1969,
   "metadata": {},
   "outputs": [],
   "source": [
    "beta_hat_aula = mlr_aula.fit(X, Y)"
   ]
  },
  {
   "cell_type": "code",
   "execution_count": 1970,
   "metadata": {},
   "outputs": [
    {
     "data": {
      "text/plain": [
       "array([2.34123115, 1.61590721, 0.01438483])"
      ]
     },
     "execution_count": 1970,
     "metadata": {},
     "output_type": "execute_result"
    }
   ],
   "source": [
    "beta_hat_aula"
   ]
  },
  {
   "cell_type": "code",
   "execution_count": 1971,
   "metadata": {},
   "outputs": [
    {
     "data": {
      "text/plain": [
       "{'SQtotal': 5784.542599999993,\n",
       " 'SQres': 233.7316774205865,\n",
       " 'SQreg': 5550.810922579407,\n",
       " 'QMres': 10.624167155481205,\n",
       " 'QNres': 9.34926709682346,\n",
       " 'QMreg': 2775.4054612897035,\n",
       " 'R2': 0.9595937494832198,\n",
       " 'R2_aj': 0.9559204539816943}"
      ]
     },
     "execution_count": 1971,
     "metadata": {},
     "output_type": "execute_result"
    }
   ],
   "source": [
    "mlr_aula.estimations()"
   ]
  },
  {
   "cell_type": "code",
   "execution_count": 1972,
   "metadata": {},
   "outputs": [
    {
     "name": "stdout",
     "output_type": "stream",
     "text": [
      "O estimador de beta é: [-4.73801490e+03  1.11850844e+00 -3.01839562e-02  2.30618802e-01\n",
      "  3.84954863e+00  8.21863660e-01 -1.69464566e+01]\n",
      "E de sigma: 26.508779824422746\n"
     ]
    }
   ],
   "source": [
    "print(f'O estimador de beta é: {beta_hat}\\nE de sigma: {np.sqrt(sigma_hat)}')"
   ]
  },
  {
   "cell_type": "code",
   "execution_count": 1973,
   "metadata": {},
   "outputs": [
    {
     "name": "stdout",
     "output_type": "stream",
     "text": [
      "Fonte de Variação(FV) \t g.l              \t SQ              \t QM              \t F \n",
      "\n",
      "Regressão           \t 2                \t 5550.81          \t 2775.41          \t 261.24\n",
      "Resíduo             \t 22              \t 233.73              \t 10.62 \n",
      "\n",
      "Total               \t 24              \t 5784.54\n",
      "\n",
      "\n",
      "261.2351086605241 3.4433567793667237\n",
      "Como F0 = 261.24 > F = 3.44, rejeitamos H0: Pelo menos uma das covariáveis é significativa.\n"
     ]
    }
   ],
   "source": [
    "mlr_aula.ANOVA()"
   ]
  },
  {
   "cell_type": "code",
   "execution_count": 1974,
   "metadata": {},
   "outputs": [
    {
     "name": "stdout",
     "output_type": "stream",
     "text": [
      "Como t = 2.13 não pertence ao intervalo [-2.07,2.07], rejeitamos H0: A covariável X_0 é significativa, dadas as demais no modelo.\n",
      "Como t = 9.46 não pertence ao intervalo [-2.07,2.07], rejeitamos H0: A covariável X_1 é significativa, dadas as demais no modelo.\n",
      "Como t = 3.98 não pertence ao intervalo [-2.07,2.07], rejeitamos H0: A covariável X_2 é significativa, dadas as demais no modelo.\n"
     ]
    }
   ],
   "source": [
    "mlr_aula.coeficient_test()"
   ]
  },
  {
   "cell_type": "code",
   "execution_count": 1975,
   "metadata": {},
   "outputs": [
    {
     "name": "stdout",
     "output_type": "stream",
     "text": [
      "Como F0 = 15.85 > F = 4.30, rejeitamos H0: Ao menos uma das covariáveis no sub conjunto é significativa.\n"
     ]
    }
   ],
   "source": [
    "mlr.sub_set_test(X, Y, ['numerodeitens'])"
   ]
  },
  {
   "cell_type": "code",
   "execution_count": 1976,
   "metadata": {},
   "outputs": [
    {
     "data": {
      "text/plain": [
       "{'Beta 0': [0.06675198664542181, 4.615710303738865],\n",
       " 'Beta 1': [1.2618246618352826, 1.9699897593832192],\n",
       " 'Beta 2': [0.0068917447688037195, 0.021877907742292594]}"
      ]
     },
     "execution_count": 1976,
     "metadata": {},
     "output_type": "execute_result"
    }
   ],
   "source": [
    "mlr_aula.ICs()"
   ]
  },
  {
   "cell_type": "code",
   "execution_count": 1977,
   "metadata": {},
   "outputs": [
    {
     "data": {
      "text/plain": [
       "[17.65389504661745, 20.79473705406634]"
      ]
     },
     "execution_count": 1977,
     "metadata": {},
     "output_type": "execute_result"
    }
   ],
   "source": [
    "mlr_aula.IC_mean(np.array([8, 275]))"
   ]
  },
  {
   "cell_type": "code",
   "execution_count": 1978,
   "metadata": {},
   "outputs": [],
   "source": [
    "import numpy as np\n",
    "from numpy import linalg"
   ]
  },
  {
   "cell_type": "code",
   "execution_count": 1891,
   "metadata": {},
   "outputs": [],
   "source": [
    "import matplotlib.pyplot as plt\n",
    "from mpl_toolkits import mplot3d"
   ]
  },
  {
   "cell_type": "code",
   "execution_count": 1892,
   "metadata": {},
   "outputs": [],
   "source": [
    "import pandas as pd"
   ]
  },
  {
   "cell_type": "code",
   "execution_count": 1893,
   "metadata": {},
   "outputs": [],
   "source": [
    "from scipy import stats"
   ]
  }
 ],
 "metadata": {
  "kernelspec": {
   "display_name": "Python 3",
   "language": "python",
   "name": "python3"
  },
  "language_info": {
   "codemirror_mode": {
    "name": "ipython",
    "version": 3
   },
   "file_extension": ".py",
   "mimetype": "text/x-python",
   "name": "python",
   "nbconvert_exporter": "python",
   "pygments_lexer": "ipython3",
   "version": "3.8.3"
  }
 },
 "nbformat": 4,
 "nbformat_minor": 5
}
